{
 "cells": [
  {
   "cell_type": "markdown",
   "id": "9f5f6f1f",
   "metadata": {},
   "source": [
    "# ONETEP Geometry Optimization with ASE\n",
    "\n",
    "This notebook demonstrates how to run ONETEP geometry optimizations using the ASE interface, following the steps in the ONETEP tutorial."
   ]
  },
  {
   "cell_type": "code",
   "execution_count": null,
   "id": "dfc2ffb1",
   "metadata": {},
   "outputs": [],
   "source": [
    "from ase.build import molecule\n",
    "from ase.calculators.onetep import Onetep\n",
    "from ase.optimize import BFGSLineSearch\n",
    "from os import environ"
   ]
  },
  {
   "cell_type": "markdown",
   "id": "c3b1ec02",
   "metadata": {},
   "source": [
    "## Ethene Geometry Optimization\n",
    "\n",
    "Set up the ethene molecule and ONETEP calculator:"
   ]
  },
  {
   "cell_type": "code",
   "execution_count": null,
   "id": "b73aae29",
   "metadata": {},
   "outputs": [],
   "source": [
    "ethene = molecule('C2H4') \n",
    "ethene.center(vacuum=10.0)\n",
    "\n",
    "keywords = {\n",
    "    'xc' : 'PBE',\n",
    "    'cutoff_energy' : '650 eV',\n",
    "    'ngwf_radius': 6.0,\n",
    "    'task' : 'GeometryOptimization'\n",
    "}\n",
    "\n",
    "pseudos = {\n",
    "    'H': 'hydrogen.recpot',\n",
    "    'C': 'carbon.recpot'\n",
    "}\n",
    "\n",
    "calc = Onetep(\n",
    "    label='ethene',\n",
    "    keywords=keywords,\n",
    "    pseudopotentials=pseudos\n",
    ")\n",
    "\n",
    "ethene.calc = calc"
   ]
  },
  {
   "cell_type": "markdown",
   "id": "be28c0f4",
   "metadata": {},
   "source": [
    "Run the geometry optimization:"
   ]
  },
  {
   "cell_type": "code",
   "execution_count": null,
   "id": "d9d6f41a",
   "metadata": {},
   "outputs": [],
   "source": [
    "ethene.get_potential_energy()"
   ]
  },
  {
   "cell_type": "markdown",
   "id": "0c164e60",
   "metadata": {},
   "source": [
    "## Sucrose Geometry Optimization \n",
    "\n",
    "Set up the sucrose molecule and ONETEP calculator:"
   ]
  },
  {
   "cell_type": "code",
   "execution_count": null,
   "id": "b1438b90",
   "metadata": {},
   "outputs": [],
   "source": [
    "sucrose = molecule('C12H22O11')\n",
    "sucrose.center(vacuum=10.0)\n",
    "\n",
    "keywords = {\n",
    "    'xc': 'PBE',\n",
    "    'cutoff_energy': '600 eV', \n",
    "    'ngwf_radius': 7.0,\n",
    "    'kernel_cutoff' : 35,\n",
    "    'task' : 'GeometryOptimization',\n",
    "    'write_converged_dkngwfs' : True,\n",
    "    'ngwf_cg_max_step' : 0.01,\n",
    "    'lnv_cg_max_step' : 0.02\n",
    "}\n",
    "\n",
    "pseudos = {\n",
    "    'H': 'hydrogen.recpot',\n",
    "    'C': 'carbon.recpot',\n",
    "    'O': 'oxygen.recpot'   \n",
    "}\n",
    "\n",
    "calc = Onetep(\n",
    "    label='sucrose',\n",
    "    keywords=keywords, \n",
    "    pseudopotentials=pseudos\n",
    ")\n",
    "\n",
    "sucrose.calc = calc"
   ]
  },
  {
   "cell_type": "markdown",
   "id": "4981dcd9",
   "metadata": {},
   "source": [
    "Run the geometry optimization:"
   ]
  },
  {
   "cell_type": "code",
   "execution_count": null,
   "id": "0906eb9b",
   "metadata": {},
   "outputs": [],
   "source": [
    "sucrose.get_potential_energy()"
   ]
  },
  {
   "cell_type": "markdown",
   "id": "69922f16",
   "metadata": {},
   "source": [
    "This sets up geometry optimizations for ethene and sucrose molecules using ONETEP via the ASE interface. Key steps include:\n",
    "\n",
    "1. Building the molecules with ASE\n",
    "2. Setting up the ONETEP calculator with keywords and pseudopotentials\n",
    "3. Attaching the calculator to the Atoms object \n",
    "4. Running the optimization with BFGSLineSearch\n",
    "\n",
    "Be sure to adjust paths to pseudopotentials and the ONETEP executable. The ASE_ONETEP_COMMAND should specify the proper parallelization settings for your system.\n",
    "\n",
    "Refer to the full tutorial for more details on monitoring and analyzing the optimization."
   ]
  }
 ],
 "metadata": {
  "kernelspec": {
   "display_name": "Python 3 (ipykernel)",
   "language": "python",
   "name": "python3"
  },
  "language_info": {
   "codemirror_mode": {
    "name": "ipython",
    "version": 3
   },
   "file_extension": ".py",
   "mimetype": "text/x-python",
   "name": "python",
   "nbconvert_exporter": "python",
   "pygments_lexer": "ipython3",
   "version": "3.9.12"
  }
 },
 "nbformat": 4,
 "nbformat_minor": 5
}
