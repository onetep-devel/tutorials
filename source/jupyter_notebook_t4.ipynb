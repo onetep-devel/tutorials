{
 "cells": [
  {
   "cell_type": "markdown",
   "id": "9f5f6f1f",
   "metadata": {},
   "source": [
    "# ONETEP Geometry Optimization with ASE\n",
    "\n",
    "This notebook demonstrates how to run ONETEP geometry optimizations using the ASE interface, following the steps in the ONETEP tutorial.\n",
    "\n",
    "You may need to install the newest version of ASE to run this tutorial, if everything is already setup, to upgrade to the lastest version, you should run\n",
    "\n",
    "```bash\n",
    "pip install --force-reinstall --no-deps git+https://gitlab.com/ase/ase.git@master\n",
    "```\n",
    "\n",
    "The \"--no-deps\" flag is used to avoid reinstalling the dependencies if you already have them."
   ]
  },
  {
   "cell_type": "code",
   "execution_count": 2,
   "id": "dfc2ffb1",
   "metadata": {},
   "outputs": [],
   "source": [
    "from pathlib import Path\n",
    "\n",
    "from ase.build import molecule\n",
    "from ase.calculators.onetep import Onetep, OnetepProfile"
   ]
  },
  {
   "cell_type": "code",
   "execution_count": 3,
   "id": "8ef526a2",
   "metadata": {},
   "outputs": [],
   "source": [
    "profile = OnetepProfile(\n",
    "    command=\"../_static/launch_onetep.sh\", pseudo_path=\"../_static/pseudos\"\n",
    ")"
   ]
  },
  {
   "cell_type": "markdown",
   "id": "c3b1ec02",
   "metadata": {},
   "source": [
    "## Ethene Geometry Optimization\n",
    "\n",
    "Set up the ethene molecule and ONETEP calculator:"
   ]
  },
  {
   "cell_type": "code",
   "execution_count": 8,
   "id": "b73aae29",
   "metadata": {},
   "outputs": [],
   "source": [
    "ethene = molecule(\"C2H4\", vacuum=8.0)\n",
    "\n",
    "calc_dir = Path(\"t2_onetep_ethene\")\n",
    "calc_dir.mkdir(exist_ok=True)\n",
    "\n",
    "keywords = {\n",
    "    \"xc_functional\": \"PBE\",\n",
    "    \"cutoff_energy\": \"650 eV\",\n",
    "    \"task\": \"GeometryOptimization\",\n",
    "    \"output_detail\": \"verbose\",\n",
    "}\n",
    "\n",
    "pseudos = {\"H\": \"H_ONCV_PBE-1.2.upf\", \"C\": \"C_ONCV_PBE-1.2.upf\"}\n",
    "\n",
    "calc = Onetep(\n",
    "    keywords=keywords,\n",
    "    pseudopotentials=pseudos,\n",
    "    ngwf_radius=6.0,\n",
    "    ngwf_count={\"H\": 1, \"C\": 4},\n",
    "    profile=profile,\n",
    "    directory=calc_dir,\n",
    ")\n",
    "\n",
    "ethene.calc = calc\n",
    "\n",
    "ethene.get_potential_energy()"
   ]
  },
  {
   "cell_type": "markdown",
   "id": "0c164e60",
   "metadata": {},
   "source": [
    "## Sucrose Geometry Optimization \n",
    "\n",
    "Set up the sucrose molecule and ONETEP calculator:"
   ]
  },
  {
   "cell_type": "code",
   "execution_count": 20,
   "id": "b1438b90",
   "metadata": {},
   "outputs": [],
   "source": [
    "from ase.data.pubchem import pubchem_atoms_search\n",
    "\n",
    "sucrose = pubchem_atoms_search(\"sucrose\")\n",
    "sucrose.center(vacuum=5.0)\n",
    "\n",
    "calc_dir = Path(\"t2_onetep_sucrose\")\n",
    "calc_dir.mkdir(exist_ok=True)\n",
    "\n",
    "keywords = {\n",
    "    \"xc_functional\": \"PBE\",\n",
    "    \"cutoff_energy\": \"600 eV\",\n",
    "    \"kernel_cutoff\": 35,\n",
    "    \"task\": \"GeometryOptimization\",\n",
    "    \"write_converged_dkngwfs\": True,\n",
    "    \"ngwf_cg_max_step\": 0.01,\n",
    "    \"lnv_cg_max_step\": 0.02,\n",
    "}\n",
    "\n",
    "pseudos = {\n",
    "    \"H\": \"H_ONCV_PBE-1.2.upf\",\n",
    "    \"C\": \"C_ONCV_PBE-1.2.upf\",\n",
    "    \"O\": \"O_ONCV_PBE-1.2.upf\",\n",
    "}\n",
    "\n",
    "calc = Onetep(\n",
    "    label=\"sucrose\",\n",
    "    keywords=keywords,\n",
    "    pseudopotentials=pseudos,\n",
    "    ngwf_count={\"H\": 1, \"C\": 4, \"O\": 4},\n",
    "    ngwf_radius=7.0,\n",
    "    directory=calc_dir,\n",
    "    profile=profile,\n",
    ")\n",
    "\n",
    "sucrose.calc = calc\n",
    "\n",
    "# Run the geometry optimization\n",
    "sucrose.get_potential_energy()"
   ]
  },
  {
   "cell_type": "markdown",
   "id": "69922f16",
   "metadata": {},
   "source": [
    "This sets up geometry optimizations for ethene and sucrose molecules using ONETEP via the ASE interface. Key steps include:\n",
    "\n",
    "1. Building the molecules with ASE.\n",
    "2. Setting up the ONETEP calculator with keywords and pseudopotentials.\n",
    "3. Attaching the calculator to the Atoms object .\n",
    "4. Running the optimization with ONETEP internal BFGS.\n",
    "\n",
    "Refer to the full tutorial for more details on monitoring and analyzing the optimization."
   ]
  }
 ],
 "metadata": {
  "kernelspec": {
   "display_name": "Python 3 (ipykernel)",
   "language": "python",
   "name": "python3"
  },
  "language_info": {
   "codemirror_mode": {
    "name": "ipython",
    "version": 3
   },
   "file_extension": ".py",
   "mimetype": "text/x-python",
   "name": "python",
   "nbconvert_exporter": "python",
   "pygments_lexer": "ipython3",
   "version": "3.11.9"
  }
 },
 "nbformat": 4,
 "nbformat_minor": 5
}
