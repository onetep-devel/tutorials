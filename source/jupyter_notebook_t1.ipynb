{
 "cells": [
  {
   "cell_type": "markdown",
   "metadata": {},
   "source": [
    "# ONETEP Calculations with ASE\n",
    "\n",
    "This notebook demonstrates how to set up and run ONETEP calculations using the Atomic Simulation Environment (ASE) in Python, following the ONETEP tutorial."
   ]
  },
  {
   "cell_type": "markdown",
   "metadata": {},
   "source": [
    "## Setup\n",
    "\n",
    "First, import the required modules:"
   ]
  },
  {
   "cell_type": "code",
   "execution_count": null,
   "metadata": {},
   "outputs": [],
   "source": [
    "from ase.build import molecule\n",
    "from ase.calculators.onetep import Onetep"
   ]
  },
  {
   "cell_type": "markdown",
   "metadata": {},
   "source": [
    "## Simple SiH4 Molecule\n",
    "\n",
    "Let's start with a simple silane (SiH4) molecule. Build the molecule using ASE:"
   ]
  },
  {
   "cell_type": "code",
   "execution_count": null,
   "metadata": {},
   "outputs": [],
   "source": [
    "silane = molecule('SiH4', vacuum=10)"
   ]
  },
  {
   "cell_type": "markdown",
   "metadata": {},
   "source": [
    "Define the ONETEP calculator with basic settings:"
   ]
  },
  {
   "cell_type": "code",
   "execution_count": null,
   "metadata": {},
   "outputs": [],
   "source": [
    "calc = Onetep(\n",
    "    cutoff_energy=500,\n",
    "    species_ngwf_radius={'Si': 6.0, 'H': 6.0}, \n",
    "    species_ngwf_number={'Si': 4, 'H': 1}\n",
    ")"
   ]
  },
  {
   "cell_type": "markdown",
   "metadata": {},
   "source": [
    "Attach the calculator to the silane molecule and calculate the energy:"
   ]
  },
  {
   "cell_type": "code",
   "execution_count": null,
   "metadata": {},
   "outputs": [],
   "source": [
    "silane.calc = calc\n",
    "energy = silane.get_potential_energy()\n",
    "print(f'Total energy: {energy:.4f} eV')"
   ]
  },
  {
   "cell_type": "markdown",
   "metadata": {},
   "source": [
    "## Convergence Tests \n",
    "\n",
    "### Cutoff Energy\n",
    "\n",
    "Test convergence with respect to cutoff energy:"
   ]
  },
  {
   "cell_type": "code",
   "execution_count": null,
   "metadata": {},
   "outputs": [],
   "source": [
    "cutoffs = [300, 400, 500, 600, 700, 800]\n",
    "\n",
    "for cutoff in cutoffs:\n",
    "    calc = Onetep(cutoff_energy=cutoff)\n",
    "    silane.calc = calc\n",
    "    energy = silane.get_potential_energy()\n",
    "    print(f'Cutoff: {cutoff:4d} eV, Energy: {energy:.4f} eV')"
   ]
  },
  {
   "cell_type": "markdown",
   "metadata": {},
   "source": [
    "### NGWF Radius \n",
    "\n",
    "Test convergence with respect to NGWF radius:"
   ]
  },
  {
   "cell_type": "code",
   "execution_count": null,
   "metadata": {},
   "outputs": [],
   "source": [
    "radii = [6.0, 7.0, 8.0, 9.0, 10.0]\n",
    "\n",
    "for radius in radii:\n",
    "    calc = Onetep(\n",
    "        cutoff_energy=500,\n",
    "        species_ngwf_radius={'Si': radius, 'H': radius})\n",
    "    silane.calc = calc \n",
    "    energy = silane.get_potential_energy()\n",
    "    print(f'NGWF radius: {radius:4.1f} Bohr, Energy: {energy:.4f} eV')"
   ]
  },
  {
   "cell_type": "markdown",
   "metadata": {},
   "source": [
    "## Crystalline Silicon\n",
    "\n",
    "Let's set up a calculation for crystalline silicon."
   ]
  },
  {
   "cell_type": "code",
   "execution_count": null,
   "metadata": {},
   "outputs": [],
   "source": [
    "from ase.build import bulk\n",
    "\n",
    "# 2x2x2 supercell of 8-atom cubic unit cell\n",
    "silicon = bulk('Si', 'diamond', a=10.1667, cubic=True).repeat(2)"
   ]
  },
  {
   "cell_type": "markdown",
   "metadata": {},
   "source": [
    "Define ONETEP calculator with appropriate settings:"
   ]
  },
  {
   "cell_type": "code",
   "execution_count": null,
   "metadata": {},
   "outputs": [],
   "source": [
    "calc = Onetep(\n",
    "    cutoff_energy=600,\n",
    "    species_ngwf_radius={'Si': 8.0},\n",
    "    species_ngwf_number={'Si': 9},\n",
    "    maxit_ngwf_cg=30, \n",
    "    ngwf_cg_max_step=8.0,\n",
    "    write_forces=True\n",
    ")\n",
    "\n",
    "silicon.calc = calc\n",
    "energy = silicon.get_potential_energy()\n",
    "forces = silicon.get_forces()\n",
    "\n",
    "print(f'Total energy: {energy:.4f} eV')\n",
    "print(f'Forces:\\n{forces}')"
   ]
  }
 ],
 "metadata": {
  "kernelspec": {
   "display_name": "Python 3",
   "language": "python",
   "name": "python3"
  },
  "language_info": {
   "codemirror_mode": {
    "name": "ipython",
    "version": 3
   },
   "file_extension": ".py",
   "mimetype": "text/x-python",
   "name": "python",
   "nbconvert_exporter": "python",
   "pygments_lexer": "ipython3",
   "version": "3.8.5"
  }
 },
 "nbformat": 4,
 "nbformat_minor": 4
}