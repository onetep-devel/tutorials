{
 "cells": [
  {
   "cell_type": "markdown",
   "id": "81e431b7",
   "metadata": {},
   "source": [
    "# ONETEP/ASE Tutorial\n",
    "\n",
    "This notebook demonstrates how to run ONETEP calculations using ASE, following the tutorial.\n",
    "\n",
    "You may need to install the newest version of ASE to run this tutorial, if everything is already setup, to upgrade to the lastest version, you should run\n",
    "\n",
    "```bash\n",
    "pip install --force-reinstall --no-deps git+https://gitlab.com/ase/ase.git@master\n",
    "```\n",
    "\n",
    "The \"--no-deps\" flag is used to avoid reinstalling the dependencies if you already have them."
   ]
  },
  {
   "cell_type": "code",
   "execution_count": null,
   "id": "8d3300c8",
   "metadata": {},
   "outputs": [],
   "source": [
    "from pathlib import Path\n",
    "\n",
    "import numpy as np\n",
    "from ase.build import molecule\n",
    "from ase.calculators.onetep import Onetep, OnetepProfile\n",
    "from matplotlib import pyplot as plt"
   ]
  },
  {
   "cell_type": "code",
   "execution_count": null,
   "id": "abc943a0",
   "metadata": {},
   "outputs": [],
   "source": [
    "profile = OnetepProfile(\n",
    "    command=\"../_static/launch_onetep.sh\", pseudo_path=\"../_static/pseudos\"\n",
    ")"
   ]
  },
  {
   "cell_type": "code",
   "execution_count": null,
   "id": "ccf83462",
   "metadata": {},
   "outputs": [],
   "source": [
    "silane = molecule(\"SiH4\", vacuum=8.0)\n",
    "\n",
    "calc_dir = Path(\"t1_onetep_silane\")\n",
    "calc_dir.mkdir(exist_ok=True)"
   ]
  },
  {
   "cell_type": "markdown",
   "id": "6362e060",
   "metadata": {},
   "source": [
    "## Silane molecule"
   ]
  },
  {
   "cell_type": "code",
   "execution_count": null,
   "id": "1d0fb9e2",
   "metadata": {},
   "outputs": [],
   "source": [
    "# Set up the ONETEP calculator\n",
    "calc = Onetep(\n",
    "    keywords={\n",
    "        \"task\": \"SinglePoint\",\n",
    "        \"cutoff_energy\": \"300 eV\",\n",
    "    },\n",
    "    ngwf_count={\"Si\": 4, \"H\": 1},\n",
    "    ngwf_radius={\"Si\": 6.0, \"H\": 6.0},\n",
    "    pseudopotentials={\"Si\": \"Si_ONCV_PBE-1.2.upf\", \"H\": \"H_ONCV_PBE-1.2.upf\"},\n",
    "    profile=profile,\n",
    "    directory=calc_dir,\n",
    ")\n",
    "\n",
    "silane.calc = calc\n",
    "\n",
    "# Run the calculation\n",
    "energy = silane.get_potential_energy()"
   ]
  },
  {
   "cell_type": "markdown",
   "id": "58d7e24a",
   "metadata": {},
   "source": [
    "## Convergence tests\n",
    "\n",
    "Test convergence with respect to:\n",
    "- Cutoff energy \n",
    "- NGWF radius"
   ]
  },
  {
   "cell_type": "code",
   "execution_count": null,
   "id": "ab12697c",
   "metadata": {},
   "outputs": [],
   "source": [
    "cutoff_energies = [300, 400, 500, 600, 700, 800]  # eV\n",
    "total_energies = []\n",
    "\n",
    "for cutoff in cutoff_energies:\n",
    "    calc = Onetep(\n",
    "        keywords={\n",
    "            \"task\": \"SinglePoint\",\n",
    "            \"cutoff_energy\": f\"{cutoff} eV\",\n",
    "        },\n",
    "        ngwf_count={\"Si\": 4, \"H\": 1},\n",
    "        ngwf_radius={\"Si\": 6.0, \"H\": 6.0},\n",
    "        pseudopotentials={\"Si\": \"Si_ONCV_PBE-1.2.upf\", \"H\": \"H_ONCV_PBE-1.2.upf\"},\n",
    "        profile=profile,\n",
    "        directory=calc_dir,\n",
    "    )\n",
    "    silane.calc = calc\n",
    "    energy = silane.get_potential_energy()\n",
    "    total_energies.append(energy)\n",
    "\n",
    "\n",
    "# Plot total energy vs cutoff energy\n",
    "plt.plot(cutoff_energies, total_energies)\n",
    "plt.xlabel(\"cutoff energy (eV)\")\n",
    "plt.ylabel(\"total energy (eV)\")\n",
    "plt.show()"
   ]
  },
  {
   "cell_type": "code",
   "execution_count": null,
   "id": "a849186e",
   "metadata": {},
   "outputs": [],
   "source": [
    "ngwf_radii = [6.0, 7.0, 8.0, 9.0, 10.0]  # bohr\n",
    "total_energies = []\n",
    "\n",
    "for radius in ngwf_radii:\n",
    "    calc = Onetep(\n",
    "        keywords={\n",
    "            \"task\": \"SinglePoint\",\n",
    "            \"cutoff_energy\": \"500 eV\",\n",
    "        },\n",
    "        ngwf_count={\"Si\": 4, \"H\": 1},\n",
    "        ngwf_radius={\"Si\": radius, \"H\": radius},\n",
    "        pseudopotentials={\"Si\": \"Si_ONCV_PBE-1.2.upf\", \"H\": \"H_ONCV_PBE-1.2.upf\"},\n",
    "        profile=profile,\n",
    "        directory=calc_dir,\n",
    "    )\n",
    "    silane.calc = calc\n",
    "    energy = silane.get_potential_energy()\n",
    "    total_energies.append(energy)\n",
    "\n",
    "plt.plot(ngwf_radii, total_energies)\n",
    "plt.xlabel(\"NGWF radius (bohr)\")\n",
    "plt.ylabel(\"total energy (eV)\")\n",
    "plt.show()"
   ]
  },
  {
   "cell_type": "markdown",
   "id": "832b1d57",
   "metadata": {},
   "source": [
    "## Crystalline silicon\n",
    "\n",
    "Here we calculate we perform a singlepoint to retrieve the forces on a silicon crystal created using the ASE bulk function."
   ]
  },
  {
   "cell_type": "code",
   "execution_count": null,
   "id": "51ffcde7",
   "metadata": {},
   "outputs": [],
   "source": [
    "calc_dir = Path(\"t1_onetep_silicon\")\n",
    "calc_dir.mkdir(exist_ok=True)"
   ]
  },
  {
   "cell_type": "code",
   "execution_count": null,
   "id": "04f9c2ea",
   "metadata": {},
   "outputs": [],
   "source": [
    "from ase.build import bulk\n",
    "\n",
    "# Build a 2x2x2 silicon supercell\n",
    "si_supercell = bulk(\"Si\", \"diamond\", a=5.430, cubic=True) * (2, 2, 2)\n",
    "\n",
    "# Set up the ONETEP calculator\n",
    "calc = Onetep(\n",
    "    keywords={\n",
    "        \"cutoff_energy\": \"900 eV\",\n",
    "        \"ngwf_cg_max_step\": 8.0,\n",
    "        \"maxit_ngwf_cg\": 30,\n",
    "        \"write_forces\": True,\n",
    "        \"forces_output_detail\": \"verbose\",\n",
    "    },\n",
    "    ngwf_count={\"Si\": 4},\n",
    "    ngwf_radius={\"Si\": 8.0},\n",
    "    pseudopotentials={\"Si\": \"Si_ONCV_PBE-1.2.upf\"},\n",
    "    profile=profile,\n",
    "    directory=calc_dir,\n",
    ")\n",
    "\n",
    "si_supercell.calc = calc\n",
    "\n",
    "# Run the calculation\n",
    "forces = si_supercell.get_forces()\n",
    "\n",
    "print(f\"max force: {np.max(forces)}\")"
   ]
  }
 ],
 "metadata": {
  "kernelspec": {
   "display_name": "Python 3",
   "language": "python",
   "name": "python3"
  },
  "language_info": {
   "codemirror_mode": {
    "name": "ipython",
    "version": 3
   },
   "file_extension": ".py",
   "mimetype": "text/x-python",
   "name": "python",
   "nbconvert_exporter": "python",
   "pygments_lexer": "ipython3",
   "version": "3.11.9"
  }
 },
 "nbformat": 4,
 "nbformat_minor": 5
}
