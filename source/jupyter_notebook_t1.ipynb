{
 "cells": [
  {
   "cell_type": "markdown",
   "id": "81e431b7",
   "metadata": {},
   "source": [
    "# ONETEP/ASE Tutorial\n",
    "\n",
    "This notebook demonstrates how to run ONETEP calculations using ASE, following the tutorial."
   ]
  },
  {
   "cell_type": "code",
   "execution_count": 2,
   "id": "8d3300c8",
   "metadata": {},
   "outputs": [],
   "source": [
    "from ase.calculators.onetep import Onetep, OnetepProfile\n",
    "from ase.build import molecule\n",
    "\n",
    "from pathlib import Path\n",
    "\n",
    "from matplotlib import pyplot as plt"
   ]
  },
  {
   "cell_type": "code",
   "execution_count": 3,
   "id": "abc943a0",
   "metadata": {},
   "outputs": [],
   "source": [
    "profile = OnetepProfile(\n",
    "    command=\"../_static/.launch_onetep.sh\",\n",
    "    pseudo_path=\"../_static/pseudos\"\n",
    ")"
   ]
  },
  {
   "cell_type": "code",
   "execution_count": 8,
   "id": "ccf83462",
   "metadata": {},
   "outputs": [],
   "source": [
    "silane = molecule('SiH4', vacuum=8.0)\n",
    "\n",
    "calc_dir = Path('t1_onetep_silane')\n",
    "calc_dir.mkdir(exist_ok=True)"
   ]
  },
  {
   "cell_type": "markdown",
   "id": "6362e060",
   "metadata": {},
   "source": [
    "## Silane molecule"
   ]
  },
  {
   "cell_type": "code",
   "execution_count": 6,
   "id": "1d0fb9e2",
   "metadata": {},
   "outputs": [],
   "source": [
    "# Set up the ONETEP calculator\n",
    "calc = Onetep(\n",
    "    keywords={\n",
    "        'task': 'SinglePoint',  \n",
    "        'cutoff_energy': '300 eV',\n",
    "    },\n",
    "    ngwf_count={'Si': 4, 'H': 1}, \n",
    "    ngwf_radius={'Si': 6.0, 'H': 6.0},\n",
    "    pseudopotentials={'Si': 'Si_ONCV.upf', 'H': 'H_NCP19_PBE_OTF.usp'},\n",
    "    profile=profile,\n",
    "    directory=calc_dir\n",
    ")\n",
    "\n",
    "silane.calc = calc\n",
    "\n",
    "# Run the calculation\n",
    "energy = silane.get_potential_energy()"
   ]
  },
  {
   "cell_type": "markdown",
   "id": "58d7e24a",
   "metadata": {},
   "source": [
    "## Convergence tests\n",
    "\n",
    "Test convergence with respect to:\n",
    "- Cutoff energy \n",
    "- NGWF radius"
   ]
  },
  {
   "cell_type": "code",
   "execution_count": 12,
   "id": "ab12697c",
   "metadata": {},
   "outputs": [
    {
     "data": {
      "image/png": "[encoded data removed]",
      "text/plain": [
       "<Figure size 640x480 with 1 Axes>"
      ]
     },
     "metadata": {},
     "output_type": "display_data"
    }
   ],
   "source": [
    "cutoff_energies = [300, 400, 500, 600, 700, 800]  # eV\n",
    "total_energies = []\n",
    "\n",
    "for cutoff in cutoff_energies:\n",
    "    calc = Onetep(\n",
    "        keywords={\n",
    "            'task': 'SinglePoint',  \n",
    "            'cutoff_energy': f'{cutoff} eV',\n",
    "        },\n",
    "        ngwf_count={'Si': 4, 'H': 1}, \n",
    "        ngwf_radius={'Si': 6.0, 'H': 6.0},\n",
    "        pseudopotentials={'Si': 'Si_ONCV.upf', 'H': 'H_NCP19_PBE_OTF.usp'},\n",
    "        profile=profile,\n",
    "        directory=calc_dir\n",
    "    )\n",
    "    silane.calc = calc\n",
    "    energy = silane.get_potential_energy()\n",
    "    total_energies.append(energy)\n",
    "\n",
    "\n",
    "# Plot total energy vs cutoff energy\n",
    "plt.plot(cutoff_energies, total_energies)\n",
    "plt.show()"
   ]
  },
  {
   "cell_type": "code",
   "execution_count": 10,
   "id": "a849186e",
   "metadata": {},
   "outputs": [],
   "source": [
    "ngwf_radii = [6.0, 7.0, 8.0, 9.0, 10.0]  # bohr\n",
    "total_energies = []\n",
    "\n",
    "for radius in ngwf_radii:\n",
    "    calc = Onetep(\n",
    "        keywords={\n",
    "            'task': 'SinglePoint',  \n",
    "            'cutoff_energy': f'500 eV',\n",
    "        },\n",
    "        ngwf_count={'Si': 4, 'H': 1}, \n",
    "        ngwf_radius={'Si': radius, 'H': radius},\n",
    "        pseudopotentials={'Si': 'Si_ONCV.upf', 'H': 'H_NCP19_PBE_OTF.usp'},\n",
    "        profile=profile,\n",
    "        directory=calc_dir\n",
    "    )\n",
    "    silane.calc = calc\n",
    "    energy = silane.get_potential_energy()\n",
    "    total_energies.append(energy)\n",
    "\n",
    "plt.plot(ngwf_radii, total_energies)\n",
    "plt.show()"
   ]
  },
  {
   "cell_type": "markdown",
   "id": "832b1d57",
   "metadata": {},
   "source": [
    "## Crystalline silicon"
   ]
  },
  {
   "cell_type": "code",
   "execution_count": 1,
   "id": "04f9c2ea",
   "metadata": {},
   "outputs": [],
   "source": [
    "# This example does NOT converge, until then we comment it out.\n",
    "\n",
    "#from ase.build import bulk\n",
    "#\n",
    "## Build a 2x2x2 silicon supercell \n",
    "#si_supercell = bulk('Si', 'diamond', a=10.1667, cubic=True) * (2, 2, 2)\n",
    "#\n",
    "## Set up the ONETEP calculator\n",
    "#calc = Onetep(\n",
    "#    keywords={\n",
    "#        'cutoff_energy': '900 eV',\n",
    "#        'ngwf_cg_max_step': 8.0,\n",
    "#        'maxit_ngwf_cg': 30,\n",
    "#        'write_forces': True,\n",
    "#        \"forces_output_detail\": \"verbose\"\n",
    "#    },\n",
    "#    ngwf_count={'Si': 4}, \n",
    "#    ngwf_radius={'Si': 8.0},\n",
    "#    pseudopotentials={'Si': 'Si_ONCV.upf'},\n",
    "#    profile=profile\n",
    "#)\n",
    "#\n",
    "#si_supercell.calc = calc\n",
    "#\n",
    "## Run the calculation\n",
    "#forces = si_supercell.get_forces()\n",
    "#\n",
    "#print(forces)"
   ]
  }
 ],
 "metadata": {
  "kernelspec": {
   "display_name": "Python 3",
   "language": "python",
   "name": "python3"
  },
  "language_info": {
   "codemirror_mode": {
    "name": "ipython",
    "version": 3
   },
   "file_extension": ".py",
   "mimetype": "text/x-python",
   "name": "python",
   "nbconvert_exporter": "python",
   "pygments_lexer": "ipython3",
   "version": "3.11.9"
  }
 },
 "nbformat": 4,
 "nbformat_minor": 5
}
