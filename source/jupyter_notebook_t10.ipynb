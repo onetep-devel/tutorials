{
 "cells": [
  {
   "cell_type": "markdown",
   "id": "1e36b8f8",
   "metadata": {},
   "source": [
    "# ONETEP/ASE Tutorial - Simulation Cell Relaxation\n",
    "\n",
    "This notebook demonstrates how to use ASE to run ONETEP calculations for relaxing the simulation cell of crystalline silica, following the ONETEP tutorial.\n",
    "\n",
    "You may need to install the newest version of ASE to run this tutorial, if everything is already setup, to upgrade to the lastest version, you should run\n",
    "\n",
    "```bash\n",
    "pip install --force-reinstall --no-deps git+https://gitlab.com/ase/ase.git@master\n",
    "```\n",
    "\n",
    "The \"--no-deps\" flag is used to avoid reinstalling the dependencies if you already have them."
   ]
  },
  {
   "cell_type": "code",
   "execution_count": 1,
   "id": "21e5f0eb",
   "metadata": {},
   "outputs": [],
   "source": [
    "from pathlib import Path\n",
    "\n",
    "from ase.calculators.onetep import Onetep, OnetepProfile\n",
    "from ase.io import read\n",
    "from ase.io.onetep import get_onetep_keywords"
   ]
  },
  {
   "cell_type": "markdown",
   "id": "fd9fa22c",
   "metadata": {},
   "source": [
    "## Set up the ONETEP profile"
   ]
  },
  {
   "cell_type": "code",
   "execution_count": 31,
   "id": "4a91e6ef",
   "metadata": {},
   "outputs": [],
   "source": [
    "profile = OnetepProfile(\n",
    "    command=\"../_static/.launch_onetep.sh\", pseudo_path=\"../_static/pseudos\"\n",
    ")"
   ]
  },
  {
   "cell_type": "markdown",
   "id": "6a2e4ab4",
   "metadata": {},
   "source": [
    "## Read in the silica structure"
   ]
  },
  {
   "cell_type": "code",
   "execution_count": 36,
   "id": "4add78b3",
   "metadata": {},
   "outputs": [],
   "source": [
    "silica = read(\"_static/tutorial_10/silica96.dat\", format=\"onetep-in\")"
   ]
  },
  {
   "cell_type": "markdown",
   "id": "11be7982",
   "metadata": {},
   "source": [
    "## Set up the ONETEP calculator"
   ]
  },
  {
   "cell_type": "code",
   "execution_count": 42,
   "id": "5a3c6e3a",
   "metadata": {},
   "outputs": [],
   "source": [
    "keywords = get_onetep_keywords(\"_static/tutorial_10/silica96.dat\")\n",
    "\n",
    "keywords[\"species_pot\"] = ['Si \"Si_ONCV_PBE-1.2.upf\"', 'O \"O_ONCV_PBE-1.2.upf\"']\n",
    "\n",
    "calc_dir = Path(\"t10_onetep_stress\")\n",
    "calc_dir.mkdir(exist_ok=True)\n",
    "\n",
    "calc = Onetep(\n",
    "    keywords=keywords,\n",
    "    profile=profile,\n",
    "    directory=calc_dir,\n",
    ")\n",
    "\n",
    "silica.calc = calc"
   ]
  },
  {
   "cell_type": "markdown",
   "id": "e2d83e3a",
   "metadata": {},
   "source": [
    "## Run the cell relaxation calculation"
   ]
  },
  {
   "cell_type": "code",
   "execution_count": 43,
   "id": "aec24018",
   "metadata": {},
   "outputs": [],
   "source": [
    "silica.get_potential_energy()"
   ]
  },
  {
   "cell_type": "markdown",
   "id": "974b4f91",
   "metadata": {},
   "source": [
    "The calculation will relax both the atomic positions and the simulation cell. \n",
    "\n",
    "Examine the output file (`onetep.out` by default) to see the details of the calculation, including:\n",
    "- Initial geometry optimization \n",
    "- Calculation of the stress tensor via distorted cells\n",
    "- Iterations of updating the cell vectors based on the stress tensor\n",
    "- Final relaxed cell\n",
    "\n",
    "The relaxed cell vectors are printed at the end of the output file."
   ]
  }
 ],
 "metadata": {
  "kernelspec": {
   "display_name": "Python 3 (ipykernel)",
   "language": "python",
   "name": "python3"
  },
  "language_info": {
   "codemirror_mode": {
    "name": "ipython",
    "version": 3
   },
   "file_extension": ".py",
   "mimetype": "text/x-python",
   "name": "python",
   "nbconvert_exporter": "python",
   "pygments_lexer": "ipython3",
   "version": "3.11.9"
  }
 },
 "nbformat": 4,
 "nbformat_minor": 5
}
